{
 "cells": [
  {
   "cell_type": "code",
   "execution_count": null,
   "metadata": {},
   "outputs": [],
   "source": []
  },
  {
   "cell_type": "markdown",
   "metadata": {},
   "source": [
    "<a href=\"https://colab.research.google.com/github/TomoShishido/abltransactivation1/blob/main/Colab_AlphaFold1-2_PAE_json2excel.ipynb\" target=\"_parent\"><img src=\"https://colab.research.google.com/assets/colab-badge.svg\" alt=\"Open In Colab\"/></a>\n"
   ]
  },
  {
   "cell_type": "code",
   "execution_count": null,
   "metadata": {},
   "outputs": [],
   "source": [
    "!pip install openpyxl"
   ]
  },
  {
   "cell_type": "code",
   "execution_count": 1,
   "metadata": {},
   "outputs": [],
   "source": [
    "import pandas as pd\n",
    "import os\n",
    "import glob\n",
    "import math\n",
    "import openpyxl as px\n",
    "from openpyxl.styles import PatternFill\n",
    "import json"
   ]
  },
  {
   "cell_type": "code",
   "execution_count": 2,
   "metadata": {},
   "outputs": [],
   "source": [
    "def AlphaFold1to2_PAE_json2excel(AlphaFold1to2_PAE_JSONPATH):\n",
    "\n",
    "    if os.path.exists(AlphaFold1to2_PAE_JSONPATH):\n",
    "        print(f'JSON_FILE_PATH: {AlphaFold1to2_PAE_JSONPATH}')\n",
    "\n",
    "        with open(AlphaFold1to2_PAE_JSONPATH, 'r') as json_file:\n",
    "            json_content = json_file.read()\n",
    "\n",
    "        try:\n",
    "            json_content = json.loads(json_content)\n",
    "            df_json = pd.json_normalize(json_content) \n",
    "        except ValueError as e:\n",
    "            print(f'Error reading JSON: {e}')\n",
    "            return 0\n",
    "\n",
    "        dirname = os.path.dirname(AlphaFold1to2_PAE_JSONPATH)\n",
    "        namewithoutext = os.path.splitext(os.path.basename(AlphaFold1to2_PAE_JSONPATH))[0]\n",
    "        json_ext = os.path.splitext(os.path.basename(AlphaFold1to2_PAE_JSONPATH))[1]\n",
    "        json_filepath = dirname + '/' + namewithoutext + json_ext\n",
    "\n",
    "        nestedlist1 = None\n",
    "        if 'predicted_aligned_error' in df_json.columns and df_json['predicted_aligned_error'][0]:\n",
    "            nestedlist1 = df_json['predicted_aligned_error'][0]\n",
    "        elif 'pae' in df_json.columns and df_json['pae'][0]:\n",
    "            nestedlist1 = df_json['pae'][0]\n",
    "        else:\n",
    "            print(\"No suitable key found in JSON\")\n",
    "            return 0\n",
    "\n",
    "        for i, x in enumerate(nestedlist1):\n",
    "            for j,y in enumerate(x):\n",
    "                nestedlist1[i][j] = math.floor(nestedlist1[i][j])\n",
    "\n",
    "        df1=pd.DataFrame(nestedlist1)\n",
    "        excel_path =dirname + '/' + namewithoutext + '.xlsx'\n",
    "        # print(f'excel_path:{excel_path}')\n",
    "        df1.to_excel(excel_path, sheet_name=namewithoutext, index=False, header=False, startrow=0, startcol=0)\n",
    "        \n",
    "        wb = px.load_workbook(filename=excel_path)\n",
    "        ws = wb[namewithoutext]\n",
    "        lastrow = ws.max_row\n",
    "        lastcol = ws.max_column\n",
    "        for col in range(1, lastcol+1):\n",
    "            column_letter = px.utils.get_column_letter(col)\n",
    "            ws.column_dimensions[column_letter].width = 3\n",
    "            ws.row_dimensions[col].height = 15 #assume in PAE col=row\n",
    "        for row in range(1, lastrow+1):\n",
    "            for col in range(1, lastcol+1):\n",
    "                val = ws.cell(row= row, column= col).value\n",
    "                very_low = 5\n",
    "                medium_low =10\n",
    "                low =15\n",
    "                slightly_low =20\n",
    "                if val <= very_low:\n",
    "                    ws.cell(row=row, column=col).fill = PatternFill(patternType='solid', fgColor='2b381d', bgColor= '2b381d')\n",
    "                elif val <= medium_low:\n",
    "                    ws.cell(row=row, column=col).fill = PatternFill(patternType='solid', fgColor='557238', bgColor= '557238')\n",
    "                elif val <= low:\n",
    "                    ws.cell(row=row, column=col).fill = PatternFill(patternType='solid', fgColor='80aa55', bgColor= '80aa55')\n",
    "                elif val <= slightly_low:\n",
    "                    ws.cell(row=row, column=col).fill = PatternFill(patternType='solid', fgColor='aac78d', bgColor= 'aac78d')\n",
    "                else:\n",
    "                    pass\n",
    "        wb.save(excel_path)\n",
    "        return excel_path\n",
    "    else:\n",
    "        print(\"There is no JSON_FILE_PATH\")\n",
    "        return 0 "
   ]
  },
  {
   "cell_type": "code",
   "execution_count": null,
   "metadata": {},
   "outputs": [
    {
     "name": "stdout",
     "output_type": "stream",
     "text": [
      "JSON_FILE_PATH: PAE/c-crk_c-abl.json\n",
      "Excel PATH: PAE/c-crk_c-abl.xlsx\n"
     ]
    }
   ],
   "source": [
    "AlphaFold1to2_PAE_JSONPATH=\"path_to_your_PAE_json_file\"\n",
    "# AlphaFold1to2_PAE_JSONPATH=\"PAE/c-crk_c-abl.json\"\n",
    "resultExcelPATH= AlphaFold1to2_PAE_json2excel(AlphaFold1to2_PAE_JSONPATH)\n",
    "print(f'Excel PATH: {resultExcelPATH}')"
   ]
  },
  {
   "cell_type": "code",
   "execution_count": null,
   "metadata": {},
   "outputs": [],
   "source": []
  }
 ],
 "metadata": {
  "kernelspec": {
   "display_name": "titech_env",
   "language": "python",
   "name": "python3"
  },
  "language_info": {
   "codemirror_mode": {
    "name": "ipython",
    "version": 3
   },
   "file_extension": ".py",
   "mimetype": "text/x-python",
   "name": "python",
   "nbconvert_exporter": "python",
   "pygments_lexer": "ipython3",
   "version": "3.10.6"
  }
 },
 "nbformat": 4,
 "nbformat_minor": 2
}
